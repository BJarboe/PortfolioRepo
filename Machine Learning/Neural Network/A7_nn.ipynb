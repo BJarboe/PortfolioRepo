{
 "cells": [
  {
   "cell_type": "markdown",
   "metadata": {},
   "source": [
    "# CS549 Machine Learning Spring 2024 - Irfan Khan\n",
    "# Assignment 7: Simple Neural Network\n",
    "\n",
    "**Total points: 10**\n",
    "\n",
    "Updated assignment designed by Ex-Professor Yang Xu Computer Science Dept, SDSU\n",
    "\n",
    "In this assignment, you will implement a 2-layer shallow neural network model. \n",
    "\n",
    "We will use the model to conduct the same binary classification task , i.e., classify two categories of the sign language dataset. \n",
    "\n",
    "The input size is the number of pixels in a image ($64\\times 64)=4096$. The size of hidden layer is determined by a hyperparameter `n_h`, and the size of output layer is 1."
   ]
  },
  {
   "cell_type": "code",
   "execution_count": 14,
   "metadata": {},
   "outputs": [],
   "source": [
    "import numpy as np\n",
    "import matplotlib.pyplot as plt\n",
    "from utils import *\n",
    "\n",
    "#utils is a \"utilities file\" that contains utility functions or helper functions used in this assignment. \n",
    "#It is provided in the zip folder for this assignemnt. Please leave it unchanged.\n",
    "%matplotlib inline\n",
    "np.random.seed(1)"
   ]
  },
  {
   "cell_type": "code",
   "execution_count": 15,
   "metadata": {
    "tags": []
   },
   "outputs": [
    {
     "name": "stdout",
     "output_type": "stream",
     "text": [
      "(286, 4096)\n",
      "(286, 1)\n",
      "(125, 4096)\n",
      "(125, 1)\n"
     ]
    }
   ],
   "source": [
    "# Load data\n",
    "#Since data is in n x m format, convert into m x n format, m: sample size, n: number of features\n",
    "X_train_orig, Y_train_orig, X_test_orig, Y_test_orig = load_data()\n",
    "X_train = X_train_orig.T\n",
    "Y_train = Y_train_orig.T\n",
    "X_test = X_test_orig.T\n",
    "Y_test = Y_test_orig.T\n",
    "\n",
    "print(X_train.shape)\n",
    "print(Y_train.shape)\n",
    "print(X_test.shape)\n",
    "print(Y_test.shape)"
   ]
  },
  {
   "cell_type": "markdown",
   "metadata": {},
   "source": [
    "# Expected Result\n",
    "\n",
    "(286, 4096)<br>\n",
    "(286, 1)<br>\n",
    "(125, 4096)<br>\n",
    "(125, 1)"
   ]
  },
  {
   "cell_type": "markdown",
   "metadata": {},
   "source": [
    "### 1.1 Intialize parameters\n",
    "**1 point**\n",
    "\n",
    "The parameters associated with the hidden layer are $W^{[1]}$ and $B^{[1]}$, and the parameters associated with the output layer are $W^{[2]}$ and $B^{[2]}$.\n",
    "\n",
    "We use **tanh** as acitivation function for hidden layer, and **sigmoid** for output layer.\n",
    "\n",
    "**Instructions:**\n",
    "- Initialize parameters randomly\n",
    "- Use `np.random.randn((size_out, size_in))*0.01` to initialize $W^{[l]}$, in which `size_out` is the output size of current layer, and `size_in` is the input size from previous layer. \n",
    "- Use `np.zeros()` to initialize $B^{[l]}$"
   ]
  },
  {
   "cell_type": "code",
   "execution_count": 26,
   "metadata": {},
   "outputs": [],
   "source": [
    "def init_params(n_i, n_h, n_o):\n",
    "    \"\"\"\n",
    "    Args:\n",
    "    n_i -- size of input layer\n",
    "    n_h -- size of hidden layer\n",
    "    n_o -- size of output layer\n",
    "    \n",
    "    Return:\n",
    "    params -- a dict object containing all parameters:\n",
    "        W1 -- weight matrix of layer 1\n",
    "        B1 -- bias vector of layer 1\n",
    "        W2 -- weight matrix of layer 2\n",
    "        B2 -- bias vector of layer 2\n",
    "    \"\"\"\n",
    "    np.random.seed(2) # For deterministic repeatability, DO NOT change this line! \n",
    "    \n",
    "    ### START Code ###\n",
    "    W1 = np.random.randn(n_h, n_i) * 0.01 \n",
    "    W2 = np.random.randn(n_o, n_h) * 0.01 \n",
    "\n",
    "    \n",
    "\n",
    "    B1 = np.zeros(n_h)\n",
    "    B2 = np.zeros(n_o)\n",
    "    \n",
    "    ### END Code ###\n",
    "    \n",
    "    params = {'W1': W1, 'B1': B1, 'W2': W2, 'B2': B2}\n",
    "   \n",
    "\n",
    "    return params"
   ]
  },
  {
   "cell_type": "code",
   "execution_count": 27,
   "metadata": {
    "tags": []
   },
   "outputs": [
    {
     "name": "stdout",
     "output_type": "stream",
     "text": [
      "W1 = [[-0.00416758 -0.00056267 -0.02136196]\n",
      " [ 0.01640271 -0.01793436 -0.00841747]\n",
      " [ 0.00502881 -0.01245288 -0.01057952]\n",
      " [-0.00909008  0.00551454  0.02292208]]\n",
      "B1 = [0. 0. 0. 0.]\n",
      "W2 = [[ 0.00041539 -0.01117925  0.00539058 -0.0059616 ]]\n",
      "B2 = [0.]\n"
     ]
    }
   ],
   "source": [
    "# Evaluate Task\n",
    "ps = init_params(3, 4, 1)\n",
    "print('W1 =', ps['W1'])\n",
    "print('B1 =' ,ps['B1'])\n",
    "print('W2 =', ps['W2'])\n",
    "print('B2 =', ps['B2'])"
   ]
  },
  {
   "cell_type": "markdown",
   "metadata": {},
   "source": [
    "**Expected output**\n",
    "\n",
    "W1 = [[-0.00416758 -0.00056267 -0.02136196]<br>\n",
    " [ 0.01640271 -0.01793436 -0.00841747]<br>\n",
    " [ 0.00502881 -0.01245288 -0.01057952]<br>\n",
    " [-0.00909008  0.00551454  0.02292208]]<br>\n",
    "B1 = [[0. 0. 0. 0.]]<br>\n",
    "W2 = [[ 0.00041539 -0.01117925  0.00539058 -0.0059616 ]]<br>\n",
    "B2 = [[0.]]<br>\n",
    "\n",
    "### 1.2 Forward propagation\n",
    "\n",
    "**2 points**\n",
    "\n",
    "Use the following fomulas to implement forward propagation:\n",
    "- $Z^{[1]} = XW^{[1]T} + B^{[1]}$\n",
    "- $A^{[1]} = tanh(Z^{[1]})$ --> use `np.tanh` function\n",
    "- $Z^{[2]} = A^{[1]}W^{[2]T} + B^{[2]}$\n",
    "- $A^{[2]} = \\sigma(Z^{[2]})$ --> directly use the `sigmoid` function provided in `utils` package"
   ]
  },
  {
   "cell_type": "code",
   "execution_count": 18,
   "metadata": {},
   "outputs": [],
   "source": [
    "def forward_prop(X, params):\n",
    "    \"\"\"\n",
    "    Args:\n",
    "    X -- input data of shape (m,n_in)\n",
    "    params -- a python dict object containing all parameters (output of init_params)\n",
    "    \n",
    "    Return:\n",
    "    A2 -- the activation of the output layer\n",
    "    cache -- a python dict containing all intermediate values for later use in backprop\n",
    "             i.e., 'Z1', 'A1', 'Z2', 'A2'\n",
    "    \"\"\"\n",
    "    m = X.shape[0]\n",
    "    \n",
    "    # Retrieve parameters\n",
    "    ### START Code ###\n",
    "    W1, W2 = params['W1'], params['W2']\n",
    "    B1, B2 = params['B1'], params['B2']\n",
    "    ### END Code ###\n",
    "    \n",
    "    # Implement forward propagation\n",
    "     ### START Code ###\n",
    "    \n",
    "    Z1 = np.dot(X, W1.T) + B1\n",
    "    A1 = np.tanh(Z1)\n",
    "    Z2 = np.dot(A1, W2.T) + B2\n",
    "    \n",
    "    A2 = sigmoid(Z2)\n",
    "    ### END Code ###\n",
    "    \n",
    "    \n",
    "    assert A1.shape[0] == m\n",
    "    assert A2.shape[0] == m\n",
    "    \n",
    "    cache = {'Z1': Z1, 'A1': A1, 'Z2': Z2, 'A2': A2}\n",
    "    \n",
    "    return A2, cache"
   ]
  },
  {
   "cell_type": "code",
   "execution_count": 19,
   "metadata": {
    "tags": []
   },
   "outputs": [
    {
     "name": "stdout",
     "output_type": "stream",
     "text": [
      "mean(Z1) = 0.006415781628350418\n",
      "mean(A1) = 0.006410368144939439\n",
      "mean(Z2) = -6.432516196270971e-05\n",
      "mean(A2) = 0.49998391870952374\n"
     ]
    }
   ],
   "source": [
    "# Evaluate Task\n",
    "X_tmp, params_tmp = forwardprop_testcase()\n",
    "\n",
    "A2, cache = forward_prop(X_tmp, params_tmp)\n",
    "\n",
    "print('mean(Z1) =', np.mean(cache['Z1']))\n",
    "print('mean(A1) =', np.mean(cache['A1']))\n",
    "print('mean(Z2) =', np.mean(cache['Z2']))\n",
    "print('mean(A2) =', np.mean(cache['A2']))\n"
   ]
  },
  {
   "cell_type": "markdown",
   "metadata": {},
   "source": [
    "**Expected output**\n",
    "\n",
    "mean(Z1) = 0.006415781628350418<br>\n",
    "mean(A1) = 0.006410368144939439<br>\n",
    "mean(Z2) = -6.432516196270971e-05<br>\n",
    "mean(A2) = 0.49998391870952374<br>\n",
    "***\n",
    "\n",
    "### 1.3 Backward propagation\n",
    "**3 points**\n",
    "\n",
    "Use the following formulas to implement backward propagation:\n",
    "- $dz^{[2]} = a^{[2]} - y$\n",
    "- $dW^{[2]} = \\frac{1}{m}dz^{[2]T}a^{[1]}$ --> $m$ is the number of examples\n",
    "- $dB^{[2]} = \\frac{1}{m}$ np.sum( $dz^{[2]}$, axis=0, keepdims=True)\n",
    "- $da^{[1]} = dz^{[2]}W^{[2]}$\n",
    "- $dz^{[1]} = da^{[1]}*g'(z^{[1]})$\n",
    "    - Here $*$ denotes element-wise multiply\n",
    "    - $g(z)$ is the tanh function, therefore its derivative $g'(z^{[1]}) = 1 - (g(z^{[1]}))^2 = 1 - (a^{[1]})^2$\n",
    "- $dW^{[1]} = \\frac{1}{m} dz^{[1]T}X$\n",
    "- $dB^{[1]} = \\frac{1}{m}$ np.sum( $dz^{[1]}$, axis=0, keepdims=True)"
   ]
  },
  {
   "cell_type": "code",
   "execution_count": 20,
   "metadata": {},
   "outputs": [],
   "source": [
    "def backward_prop(X, Y, params, cache):\n",
    "    \"\"\"\n",
    "    Args:\n",
    "    X -- input data of shape (m,n_in)\n",
    "    Y -- input label of shape (m,1)\n",
    "    params -- a python dict containing all parameters\n",
    "    cache -- a python dict containing 'Z1', 'A1', 'Z2' and 'A2' (output of forward_prop)\n",
    "    \n",
    "    Return:\n",
    "    grads -- a python dict containing the gradients w.r.t. all parameters,\n",
    "             i.e., dW1, dB1, dW2, dB2\n",
    "    \"\"\"\n",
    "    m = X.shape[0]\n",
    "    \n",
    "    # Retrieve parameters\n",
    "     ### START Code ###\n",
    "    W1, W2 = params['W1'], params['W2']\n",
    "    B1, B2 = params['B1'], params['B2']\n",
    "\n",
    "    Z1, Z2 = cache['Z1'], cache['Z2']\n",
    "    a1, a2 = cache['A1'], cache['A2']\n",
    "    ### END Code ###\n",
    "    \n",
    "    \n",
    "    # Retrive intermediate values stored in cache\n",
    "     ### START Code ###\n",
    "    \n",
    "    dz2 = a2 - Y\n",
    "    dW2 = 1/m * np.dot(dz2.T, a1)\n",
    "    dB2 = 1/m * np.sum(dz2, axis=0, keepdims=True)\n",
    "    da1 = np.dot(dz2, W2)\n",
    "    gz = 1 - a1 ** 2\n",
    "    dz1 = da1 * gz\n",
    "    dW1 = 1/m * np.dot(dz1.T, X)\n",
    "    dB1 = 1/m * np.sum(dz1, axis=0, keepdims=True)\n",
    "    ### END Code ###\n",
    "    \n",
    "    \n",
    "    # Implement backprop\n",
    "     ### START Code ###\n",
    "    \n",
    "    ### END Code ###\n",
    "    \n",
    "    \n",
    "    grads = {'dW1': dW1, 'dB1': dB1, 'dW2': dW2, 'dB2': dB2}\n",
    "    \n",
    "    return grads"
   ]
  },
  {
   "cell_type": "code",
   "execution_count": 21,
   "metadata": {
    "tags": []
   },
   "outputs": [
    {
     "name": "stdout",
     "output_type": "stream",
     "text": [
      "mean(dW1) -0.00014844465852477853\n",
      "mean(dB1) -0.0002838378969105248\n",
      "mean(dW2) -0.004079186018202939\n",
      "mean(dB2) 0.09998392000000002\n"
     ]
    }
   ],
   "source": [
    "# Evaluate Task\n",
    "X_tmp, Y_tmp, params_tmp, cache_tmp = backprop_testcase()\n",
    "\n",
    "grads = backward_prop(X_tmp, Y_tmp, params_tmp, cache_tmp)\n",
    "print('mean(dW1)', np.mean(grads['dW1']))\n",
    "print('mean(dB1)', np.mean(grads['dB1']))\n",
    "print('mean(dW2)', np.mean(grads['dW2']))\n",
    "print('mean(dB2)', np.mean(grads['dB2']))\n",
    "\n"
   ]
  },
  {
   "cell_type": "markdown",
   "metadata": {},
   "source": [
    "**Expected output**\n",
    "\n",
    "mean(dW1) -0.00014844465852477853<br>\n",
    "mean(dB1) -0.0002838378969105248<br>\n",
    "mean(dW2) -0.004079186018202939<br>\n",
    "mean(dB2) 0.09998392000000002<br>\n",
    "\n",
    "***\n",
    "\n",
    "### 1.4 Update parameters\n",
    "**1 point**\n",
    "\n",
    "Update $W^{[1]}, b^{[1]}, W^{[2]}, b^{[2]}$ accordingly:\n",
    "- $W^{[1]} = W^{[1]} - \\alpha\\ dW^{[1]}$\n",
    "- $B^{[1]} = B^{[1]} - \\alpha\\ dB^{[1]}$\n",
    "- $W^{[2]} = W^{[2]} - \\alpha\\ dW^{[2]}$\n",
    "- $B^{[2]} = B^{[2]} - \\alpha\\ dB^{[2]}$"
   ]
  },
  {
   "cell_type": "code",
   "execution_count": 22,
   "metadata": {},
   "outputs": [],
   "source": [
    "def update_params(params, grads, alpha):\n",
    "    \"\"\"\n",
    "    Args:\n",
    "    params -- a python dict containing all parameters\n",
    "    grads -- a python dict containing the gradients w.r.t. all parameters (output of backward_prop)\n",
    "    alpha -- learning rate\n",
    "    \n",
    "    Return:\n",
    "    params -- a python dict containing all updated parameters\n",
    "    \"\"\"\n",
    "    # Retrieve parameters\n",
    "    W1 = params['W1']\n",
    "    B1 = params['B1']\n",
    "    W2 = params['W2']\n",
    "    B2 = params['B2']\n",
    "    \n",
    "    # Retrieve gradients\n",
    "    dW1 = grads['dW1']\n",
    "    dB1 = grads['dB1']\n",
    "    dW2 = grads['dW2']\n",
    "    dB2 = grads['dB2']\n",
    "    \n",
    "     ### START Code ###\n",
    "    def update(grad, d):\n",
    "        return grad - alpha * d\n",
    "    \n",
    "    W1 = update(W1,dW1)\n",
    "    W2 = update(W2,dW2)\n",
    "    B1 = update(B1,dB1)\n",
    "    B2 = update(B2,dB2)\n",
    "    ### END Code ###\n",
    "    \n",
    "    \n",
    "    params = {'W1': W1, 'B1': B1, 'W2': W2, 'B2': B2}\n",
    "    \n",
    "    return params"
   ]
  },
  {
   "cell_type": "code",
   "execution_count": 23,
   "metadata": {
    "tags": []
   },
   "outputs": [
    {
     "name": "stdout",
     "output_type": "stream",
     "text": [
      "W1 = [[ 0.004169   -0.00056367 -0.02136304]\n",
      " [ 0.0163645  -0.01790747 -0.00838857]\n",
      " [ 0.00504726 -0.01246588 -0.01059348]\n",
      " [-0.00911046  0.0055289   0.0229375 ]]\n",
      "B1 = [[-4.13852251e-07  1.12173654e-05 -5.39304763e-06  5.94305036e-06]]\n",
      "W2 = [[ 0.00048642 -0.011058    0.00546531 -0.00606545]]\n",
      "B2 = [[-0.00099984]]\n"
     ]
    }
   ],
   "source": [
    "# Evaluate Task\n",
    "params_tmp, grads_tmp = update_params_testcase()\n",
    "\n",
    "params = update_params(params_tmp, grads_tmp, 0.01)\n",
    "print('W1 =', params['W1'])\n",
    "print('B1 =', params['B1'])\n",
    "print('W2 =', params['W2'])\n",
    "print('B2 =', params['B2'])"
   ]
  },
  {
   "cell_type": "markdown",
   "metadata": {},
   "source": [
    "**Expected output**\n",
    "\n",
    "W1 = [[ 0.004169   -0.00056367 -0.02136304]<br>\n",
    " [ 0.0163645  -0.01790747 -0.00838857]<br>\n",
    " [ 0.00504726 -0.01246588 -0.01059348]<br>\n",
    " [-0.00911046  0.0055289   0.0229375 ]]<br>\n",
    "B1 = [[-4.13852251e-07  1.12173654e-05 -5.39304763e-06  5.94305036e-06]]<br>\n",
    "W2 = [[ 0.00048642 -0.011058    0.00546531 -0.00606545]]<br>\n",
    "B2 = [[-0.00099984]]<br>\n",
    "\n",
    "***\n",
    "\n",
    "### 1.5 Integrated model\n",
    "**1.5 points**\n",
    "\n",
    "Integrate `init_params`, `forward_prop`, `backward_prop` and `update_params` into one model."
   ]
  },
  {
   "cell_type": "code",
   "execution_count": 35,
   "metadata": {},
   "outputs": [],
   "source": [
    "def nn_model(X, Y, n_h, num_iters=10000, alpha=0.01, verbose=False):\n",
    "    \"\"\"\n",
    "    Args:\n",
    "    X -- training data of shape (m,n_in)\n",
    "    Y -- training label of shape (m,1)\n",
    "    n_h -- size of hidden layer\n",
    "    num_iters -- number of iterations for gradient descent\n",
    "    verbose -- print cost every 1000 steps\n",
    "    \n",
    "    Return:\n",
    "    params -- parameters learned by the model. Use these to make predictions on new data\n",
    "    \"\"\"\n",
    "    np.random.seed(3)\n",
    "    m = X.shape[0]\n",
    "    n_in = X.shape[1]\n",
    "    n_out = 1\n",
    "    \n",
    "    # Initialize parameters and retrieve them\n",
    "    ### START Code ###\n",
    "    params = init_params(n_in, n_h, n_out)\n",
    "    ### END Code ###\n",
    "    \n",
    "    \n",
    "    # Gradient descent loop\n",
    "    for i in range(num_iters):\n",
    "        ### START Code ###\n",
    "        # Forward propagation\n",
    "        A2, cache = forward_prop(X,params)\n",
    "        \n",
    "        # Backward propagation\n",
    "        grads = backward_prop(X, Y, params, cache)\n",
    "        \n",
    "        # Update parameters\n",
    "        params = update_params(params, grads, alpha)\n",
    "        \n",
    "        # Compute cost\n",
    "        cost = -np.mean(Y * np.log(A2) + (1 - Y) * np.log(1 - A2))\n",
    "\n",
    "        ### END Code ###\n",
    "        \n",
    "        # Print cost\n",
    "        if i % 1000 == 0 and verbose:\n",
    "            print('Cost after iter {}: {}'.format(i, cost))\n",
    "    \n",
    "    return params"
   ]
  },
  {
   "cell_type": "code",
   "execution_count": 28,
   "metadata": {
    "tags": []
   },
   "outputs": [
    {
     "name": "stdout",
     "output_type": "stream",
     "text": [
      "W1 = [[ 0.30237531 -0.17417915 -0.15306611]\n",
      " [ 1.25575279 -0.42239646 -0.35147978]\n",
      " [ 1.29886467 -0.43536728 -0.36668058]\n",
      " [-1.32065465  0.43563934  0.37269501]\n",
      " [ 0.41146082 -0.22524765 -0.15315463]]\n",
      "B1 = [[-0.10251157 -0.82319548 -0.85962928  0.87045666 -0.16520153]]\n",
      "W2 = [[ 0.42009393  1.87265216  1.95145175 -1.98319859  0.56655482]]\n",
      "B2 = [[-0.81216478]]\n"
     ]
    }
   ],
   "source": [
    "# Evaluate Task 1.5\n",
    "X_tmp, Y_tmp = nn_model_testcase()\n",
    "\n",
    "params_tmp = nn_model(X_tmp, Y_tmp, n_h=5, num_iters=5000, alpha=0.01)\n",
    "print('W1 =', params_tmp['W1'])\n",
    "print('B1 =', params_tmp['B1'])\n",
    "print('W2 =', params_tmp['W2'])\n",
    "print('B2 =', params_tmp['B2'])"
   ]
  },
  {
   "cell_type": "markdown",
   "metadata": {},
   "source": [
    "**Expected output**\n",
    "\n",
    "W1 = [[ 0.30237531 -0.17417915 -0.15306611]<br>\n",
    " [ 1.25575279 -0.42239646 -0.35147978]<br>\n",
    " [ 1.29886467 -0.43536728 -0.36668058]<br>\n",
    " [-1.32065465  0.43563934  0.37269501]<br>\n",
    " [ 0.41146082 -0.22524765 -0.15315463]]<br>\n",
    "B1 = [[-0.10251157 -0.82319548 -0.85962928  0.87045666 -0.16520153]]<br>\n",
    "W2 = [[ 0.42009393  1.87265216  1.95145175 -1.98319859  0.56655482]]<br>\n",
    "B2 = [[-0.81216478]]<br>\n",
    "\n",
    "***\n",
    "\n",
    "### 1.6 Predict\n",
    "**1 point**\n",
    "\n",
    "Use the learned parameters to make predictions on new data. \n",
    "- Compute $a^{[2]}$ by calling `forward_prop`. Note that the `cache` returned will not be used in making predictions.\n",
    "- Convert $a^{[2]}$ into a vector of 0 and 1."
   ]
  },
  {
   "cell_type": "code",
   "execution_count": 33,
   "metadata": {},
   "outputs": [],
   "source": [
    "def predict(X, params):\n",
    "    \"\"\"\n",
    "    Args:\n",
    "    X -- input data of shape (m,n_in)\n",
    "    params -- a python dict containing the learned parameters\n",
    "    \n",
    "    Return:\n",
    "    pred -- predictions of model on X, a vector of 0s and 1s\n",
    "    \"\"\"\n",
    "    \n",
    "   \n",
    "    ### START Code ###\n",
    "    a2, _ = forward_prop(X, params)\n",
    "    pred = np.round(a2,0)\n",
    "    ### END Code ###\n",
    "    \n",
    "    \n",
    "    return pred"
   ]
  },
  {
   "cell_type": "code",
   "execution_count": 34,
   "metadata": {
    "tags": []
   },
   "outputs": [
    {
     "name": "stdout",
     "output_type": "stream",
     "text": [
      "predictions =  [[0.]\n",
      " [1.]\n",
      " [1.]\n",
      " [0.]\n",
      " [0.]]\n"
     ]
    }
   ],
   "source": [
    "# Evaluate Task 1.6\n",
    "# NOTE: the X_tmp and params_tmp are the ones generated in evaluating Task 1.5 (two cells above)\n",
    "pred = predict(X_tmp, params_tmp)\n",
    "print('predictions = ', pred)"
   ]
  },
  {
   "cell_type": "markdown",
   "metadata": {},
   "source": [
    "**Expected output**\n",
    "\n",
    "predictions =  [[0.]<br>\n",
    " [1.]<br>\n",
    " [1.]<br>\n",
    " [0.]<br>\n",
    " [0.]]<br>\n",
    "\n",
    "***\n",
    "\n",
    "### 1.7 Train and evaluate\n",
    "\n",
    "**0.5 point**\n",
    "\n",
    "Train the neural network model on X_train and Y_train, and evaluate it on X_test and Y_test.\n",
    "\n"
   ]
  },
  {
   "cell_type": "code",
   "execution_count": 37,
   "metadata": {
    "scrolled": true,
    "tags": []
   },
   "outputs": [
    {
     "name": "stdout",
     "output_type": "stream",
     "text": [
      "Cost after iter 0: 0.6931077265775999\n",
      "Cost after iter 1000: 0.27195575446754605\n",
      "Cost after iter 2000: 0.05468999866998804\n",
      "Cost after iter 3000: 0.02430937454512366\n",
      "Cost after iter 4000: 0.014586096787370719\n",
      "Cost after iter 5000: 0.010125127624519963\n",
      "Cost after iter 6000: 0.007639951992870616\n",
      "Cost after iter 7000: 0.006080547708295087\n",
      "Cost after iter 8000: 0.005020855943306964\n",
      "Cost after iter 9000: 0.004258580876581351\n",
      "Accuracy = 95.20%\n"
     ]
    }
   ],
   "source": [
    "# Train the model on X_train and Y_train, and print cost\n",
    "# DO NOT change the hyperparameters, so that your output matches the expected one.\n",
    "params = nn_model(X_train, Y_train, n_h = 10, num_iters=10000, verbose=True)\n",
    "\n",
    "# Make predictions on X_test\n",
    "pred = predict(X_test, params)\n",
    "\n",
    "\n",
    "# Compute accuracy by comparing predictions and Y_test\n",
    "### START YOUR CODE ###\n",
    "acc = np.sum(pred == Y_test) / Y_test.shape[0]\n",
    "### END YOUR CODE ###\n",
    "print('Accuracy = {0:.2f}%'.format(acc * 100))"
   ]
  },
  {
   "cell_type": "markdown",
   "metadata": {},
   "source": [
    "**Expected output**\n",
    "\n",
    "Cost after iter 0: 0.6931077265775999<br>\n",
    "Cost after iter 1000: 0.27191665440434465<br>\n",
    "Cost after iter 2000: 0.05471220502234073<br>\n",
    "Cost after iter 3000: 0.024320586832899165<br>\n",
    "Cost after iter 4000: 0.01459203911762461<br>\n",
    "Cost after iter 5000: 0.010128918610307609<br>\n",
    "Cost after iter 6000: 0.0076426515266461124<br>\n",
    "Cost after iter 7000: 0.006082606294144723<br>\n",
    "Cost after iter 8000: 0.005022499769792935<br>\n",
    "Cost after iter 9000: 0.004259937441762031<br>\n",
    "Accuracy = 95.20%<br>\n",
    "***"
   ]
  },
  {
   "cell_type": "code",
   "execution_count": null,
   "metadata": {},
   "outputs": [],
   "source": []
  }
 ],
 "metadata": {
  "kernelspec": {
   "display_name": "Python 3 (ipykernel)",
   "language": "python",
   "name": "python3"
  },
  "language_info": {
   "codemirror_mode": {
    "name": "ipython",
    "version": 3
   },
   "file_extension": ".py",
   "mimetype": "text/x-python",
   "name": "python",
   "nbconvert_exporter": "python",
   "pygments_lexer": "ipython3",
   "version": "3.9.19"
  }
 },
 "nbformat": 4,
 "nbformat_minor": 4
}
